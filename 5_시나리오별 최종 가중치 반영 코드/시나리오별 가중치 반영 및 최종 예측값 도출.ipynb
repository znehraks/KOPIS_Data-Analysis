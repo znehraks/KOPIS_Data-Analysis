{
 "cells": [
  {
   "cell_type": "code",
   "execution_count": 1,
   "source": [
    "#라이브러리 로드\r\n",
    "import numpy as np\r\n",
    "import pandas as pd"
   ],
   "outputs": [],
   "metadata": {}
  },
  {
   "cell_type": "code",
   "execution_count": 2,
   "source": [
    "#데이터프레임 로드(1달,3달,5달치 예측(가중치 미 반영))\r\n",
    "df_month_1 = pd.read_csv(\"예매건수실전예측(1달).csv\")\r\n",
    "df_month_3 = pd.read_csv(\"예매건수실전예측(3달).csv\")\r\n",
    "df_month_5 = pd.read_csv(\"예매건수실전예측(5달).csv\")"
   ],
   "outputs": [],
   "metadata": {}
  },
  {
   "cell_type": "code",
   "execution_count": 19,
   "source": [
    "#최댓값 확인\r\n",
    "print(np.max(df_month_1['ticketing_count_forecasted']))\r\n",
    "print(np.max(df_month_3['ticketing_count_forecasted']))\r\n",
    "print(np.max(df_month_5['ticketing_count_forecasted']))"
   ],
   "outputs": [
    {
     "output_type": "stream",
     "name": "stdout",
     "text": [
      "41074\n",
      "41074\n",
      "41074\n"
     ]
    }
   ],
   "metadata": {}
  },
  {
   "cell_type": "code",
   "execution_count": 20,
   "source": [
    "#최솟값 확인\r\n",
    "print(np.min(df_month_1['ticketing_count_forecasted']))\r\n",
    "print(np.min(df_month_3['ticketing_count_forecasted']))\r\n",
    "print(np.min(df_month_5['ticketing_count_forecasted']))"
   ],
   "outputs": [
    {
     "output_type": "stream",
     "name": "stdout",
     "text": [
      "3659\n",
      "3659\n",
      "3659\n"
     ]
    }
   ],
   "metadata": {}
  },
  {
   "cell_type": "code",
   "execution_count": 75,
   "source": [
    "df_month_3['Unnamed: 0']"
   ],
   "outputs": [
    {
     "output_type": "execute_result",
     "data": {
      "text/plain": [
       "0     2021/09/01\n",
       "1     2021/09/02\n",
       "2     2021/09/03\n",
       "3     2021/09/04\n",
       "4     2021/09/05\n",
       "         ...    \n",
       "86    2021/11/26\n",
       "87    2021/11/27\n",
       "88    2021/11/28\n",
       "89    2021/11/29\n",
       "90    2021/11/30\n",
       "Name: Unnamed: 0, Length: 91, dtype: object"
      ]
     },
     "metadata": {},
     "execution_count": 75
    }
   ],
   "metadata": {}
  },
  {
   "cell_type": "code",
   "execution_count": 76,
   "source": [
    "df_value = df_month_3['ticketing_count_forecasted']"
   ],
   "outputs": [],
   "metadata": {}
  },
  {
   "cell_type": "code",
   "execution_count": 78,
   "source": [
    "df_value.index = df_month_3['Unnamed: 0']"
   ],
   "outputs": [],
   "metadata": {}
  },
  {
   "cell_type": "code",
   "execution_count": 79,
   "source": [
    "df_value"
   ],
   "outputs": [
    {
     "output_type": "execute_result",
     "data": {
      "text/plain": [
       "Unnamed: 0\n",
       "2021/09/01    16962\n",
       "2021/09/02    13949\n",
       "2021/09/03    18741\n",
       "2021/09/04    38966\n",
       "2021/09/05    28830\n",
       "              ...  \n",
       "2021/11/26    21903\n",
       "2021/11/27    38452\n",
       "2021/11/28    28710\n",
       "2021/11/29     9057\n",
       "2021/11/30    10828\n",
       "Name: ticketing_count_forecasted, Length: 91, dtype: int64"
      ]
     },
     "metadata": {},
     "execution_count": 79
    }
   ],
   "metadata": {}
  },
  {
   "cell_type": "code",
   "execution_count": 80,
   "source": [
    "#가중치 반영해주는 함수 선언\r\n",
    "def apply_weight(df,n):\r\n",
    "    #코로나의 추세가 지나치게 많이 반영된 시점을 경계로 가중치를 다르게 적용하기 위해\r\n",
    "    #두 기간으로 분리\r\n",
    "    pre = df[\"ticketing_count_forecasted\"][:136]\r\n",
    "    post = df[\"ticketing_count_forecasted\"][136:]\r\n",
    "    date = df['Unnamed: 0']\r\n",
    "    #기간 내 최댓값과 최솟값 확인\r\n",
    "    max_value = np.max(df['ticketing_count_forecasted'])\r\n",
    "    min_value = np.min(df['ticketing_count_forecasted'])\r\n",
    "\r\n",
    "    #현상유지 시나리오 결과 리스트\r\n",
    "    same=[]\r\n",
    "    #약해진 거리두기 시나리오 결과 리스트\r\n",
    "    weaker=[]\r\n",
    "    #강해진 거리두기 시나리오 결과 리스트\r\n",
    "    stronger=[]\r\n",
    "\r\n",
    "    #앞 기간에 대한 가중치 적용 후 시나리오별 수치 저장\r\n",
    "    #예측 결과에 비해 실제 예측값이 최대 최소간 차이가 큰 점을 반영함\r\n",
    "    #2020년 말에 급증했던 코로나 확진자 수로 인해 평년보다 과도하게 급격하게 감소하는 경향성을 완화해서 반영함\r\n",
    "    \r\n",
    "    for index,i in enumerate(pre):\r\n",
    "        if i >= max_value * 0.9:\r\n",
    "            same.append(i*1.1)\r\n",
    "            stronger.append(i*0.9)\r\n",
    "            iw = i + index*10\r\n",
    "            weaker.append(iw*1.3)\r\n",
    "        elif i <= min_value*1.6:\r\n",
    "            same.append(i*0.8)\r\n",
    "            stronger.append(i*0.7)\r\n",
    "            weaker.append(i*0.85)\r\n",
    "        else:\r\n",
    "            same.append(i*0.9)\r\n",
    "            stronger.append(i*0.75)\r\n",
    "            weaker.append(i)\r\n",
    "\r\n",
    "    for index,i in enumerate(post):\r\n",
    "        if i >= max_value * 0.8:\r\n",
    "            same.append(i*1.2)\r\n",
    "            stronger.append(i*0.85)\r\n",
    "            iw = i + (index+136)*10\r\n",
    "            weaker.append(iw*1.3)\r\n",
    "        elif i <= min_value*1.6:\r\n",
    "            same.append(i*0.8)\r\n",
    "            stronger.append(i*0.7)\r\n",
    "            weaker.append(i*0.85)\r\n",
    "        else:\r\n",
    "            same.append(i*0.9)\r\n",
    "            stronger.append(i*0.75)\r\n",
    "            weaker.append(i)\r\n",
    "\r\n",
    "    same = pd.Series(np.round(same),index=date)\r\n",
    "    stronger = pd.Series(np.round(stronger),index=date)\r\n",
    "    weaker = pd.Series(np.round(weaker),index=date)\r\n",
    "    \r\n",
    "    same.to_csv(f\"최종예측{n}달(현재유지).csv\")\r\n",
    "    stronger.to_csv(f\"최종예측{n}달(강해진거리두기).csv\")\r\n",
    "    weaker.to_csv(f\"최종예측{n}달(약해진거리두기).csv\")\r\n",
    "    return(same,stronger,weaker)"
   ],
   "outputs": [],
   "metadata": {}
  },
  {
   "cell_type": "code",
   "execution_count": 81,
   "source": [
    "month_1_same, month_1_stronger, month_1_weaker, = apply_weight(df_month_1,1)\n",
    "month_3_same, month_3_stronger, month_3_weaker, = apply_weight(df_month_3,3)\n",
    "month_5_same, month_5_stronger, month_5_weaker, = apply_weight(df_month_5,5)"
   ],
   "outputs": [],
   "metadata": {}
  },
  {
   "cell_type": "code",
   "execution_count": 63,
   "source": [
    "month_1_stronger"
   ],
   "outputs": [
    {
     "output_type": "execute_result",
     "data": {
      "text/plain": [
       "array([12722., 10462., 14056., 35069., 21622.,  3403.,  5301., 12800.,\n",
       "       10472., 13095., 36700., 23089.,  2561.,  6796., 12781., 11170.,\n",
       "       13682., 36967., 22588.,  3850.,  6652., 12970., 10951., 14302.,\n",
       "       36577., 22423.,  3959.,  6925., 12446., 10894.])"
      ]
     },
     "metadata": {},
     "execution_count": 63
    }
   ],
   "metadata": {}
  },
  {
   "cell_type": "code",
   "execution_count": 65,
   "source": [
    "month_1_weaker"
   ],
   "outputs": [
    {
     "output_type": "execute_result",
     "data": {
      "text/plain": [
       "array([16962., 13949., 18741., 50695., 28830.,  4132.,  7068., 17066.,\n",
       "       13963., 17460., 53141., 30785.,  3110.,  9061., 17041., 14894.,\n",
       "       18243., 53617., 30118.,  4675.,  8869., 17293., 14601., 19070.,\n",
       "       53145., 29897.,  4808.,  9233., 16595., 14526.])"
      ]
     },
     "metadata": {},
     "execution_count": 65
    }
   ],
   "metadata": {}
  }
 ],
 "metadata": {
  "kernelspec": {
   "display_name": "Python 3",
   "language": "python",
   "name": "python3"
  },
  "language_info": {
   "codemirror_mode": {
    "name": "ipython",
    "version": 3
   },
   "file_extension": ".py",
   "mimetype": "text/x-python",
   "name": "python",
   "nbconvert_exporter": "python",
   "pygments_lexer": "ipython3",
   "version": "3.7.6"
  }
 },
 "nbformat": 4,
 "nbformat_minor": 4
}