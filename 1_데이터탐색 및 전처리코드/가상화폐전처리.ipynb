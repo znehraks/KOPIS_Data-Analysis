{
 "cells": [
  {
   "cell_type": "code",
   "execution_count": 39,
   "metadata": {},
   "outputs": [],
   "source": [
    "import pandas as pd"
   ]
  },
  {
   "cell_type": "code",
   "execution_count": 61,
   "metadata": {},
   "outputs": [],
   "source": [
    "df = pd.read_csv(\"kopis_data\\\\이더리움_202107_202108.csv\", encoding='cp949')"
   ]
  },
  {
   "cell_type": "code",
   "execution_count": 53,
   "metadata": {},
   "outputs": [
    {
     "data": {
      "text/html": [
       "<div>\n",
       "<style scoped>\n",
       "    .dataframe tbody tr th:only-of-type {\n",
       "        vertical-align: middle;\n",
       "    }\n",
       "\n",
       "    .dataframe tbody tr th {\n",
       "        vertical-align: top;\n",
       "    }\n",
       "\n",
       "    .dataframe thead th {\n",
       "        text-align: right;\n",
       "    }\n",
       "</style>\n",
       "<table border=\"1\" class=\"dataframe\">\n",
       "  <thead>\n",
       "    <tr style=\"text-align: right;\">\n",
       "      <th></th>\n",
       "      <th>날짜</th>\n",
       "      <th>종가</th>\n",
       "      <th>오픈</th>\n",
       "      <th>고가</th>\n",
       "      <th>저가</th>\n",
       "      <th>거래량</th>\n",
       "      <th>변동</th>\n",
       "    </tr>\n",
       "  </thead>\n",
       "  <tbody>\n",
       "    <tr>\n",
       "      <th>0</th>\n",
       "      <td>2021년 07월 01일</td>\n",
       "      <td>2,109.11</td>\n",
       "      <td>2,274.50</td>\n",
       "      <td>2,274.63</td>\n",
       "      <td>2,077.56</td>\n",
       "      <td>1.71M</td>\n",
       "      <td>-7.24%</td>\n",
       "    </tr>\n",
       "    <tr>\n",
       "      <th>1</th>\n",
       "      <td>2021년 07월 02일</td>\n",
       "      <td>2,154.78</td>\n",
       "      <td>2,108.58</td>\n",
       "      <td>2,158.70</td>\n",
       "      <td>2,019.75</td>\n",
       "      <td>1.39M</td>\n",
       "      <td>2.17%</td>\n",
       "    </tr>\n",
       "    <tr>\n",
       "      <th>2</th>\n",
       "      <td>2021년 07월 03일</td>\n",
       "      <td>2,224.70</td>\n",
       "      <td>2,154.53</td>\n",
       "      <td>2,236.97</td>\n",
       "      <td>2,115.80</td>\n",
       "      <td>1.28M</td>\n",
       "      <td>3.25%</td>\n",
       "    </tr>\n",
       "    <tr>\n",
       "      <th>3</th>\n",
       "      <td>2021년 07월 04일</td>\n",
       "      <td>2,323.22</td>\n",
       "      <td>2,224.70</td>\n",
       "      <td>2,386.20</td>\n",
       "      <td>2,222.95</td>\n",
       "      <td>1.39M</td>\n",
       "      <td>4.43%</td>\n",
       "    </tr>\n",
       "    <tr>\n",
       "      <th>4</th>\n",
       "      <td>2021년 07월 05일</td>\n",
       "      <td>2,196.16</td>\n",
       "      <td>2,322.60</td>\n",
       "      <td>2,322.60</td>\n",
       "      <td>2,163.09</td>\n",
       "      <td>822.95K</td>\n",
       "      <td>-5.47%</td>\n",
       "    </tr>\n",
       "    <tr>\n",
       "      <th>...</th>\n",
       "      <td>...</td>\n",
       "      <td>...</td>\n",
       "      <td>...</td>\n",
       "      <td>...</td>\n",
       "      <td>...</td>\n",
       "      <td>...</td>\n",
       "      <td>...</td>\n",
       "    </tr>\n",
       "    <tr>\n",
       "      <th>57</th>\n",
       "      <td>2021년 08월 27일</td>\n",
       "      <td>3,273.58</td>\n",
       "      <td>3,093.78</td>\n",
       "      <td>3,279.93</td>\n",
       "      <td>3,063.37</td>\n",
       "      <td>839.54K</td>\n",
       "      <td>5.82%</td>\n",
       "    </tr>\n",
       "    <tr>\n",
       "      <th>58</th>\n",
       "      <td>2021년 08월 28일</td>\n",
       "      <td>3,243.90</td>\n",
       "      <td>3,273.78</td>\n",
       "      <td>3,284.58</td>\n",
       "      <td>3,212.24</td>\n",
       "      <td>466.21K</td>\n",
       "      <td>-0.91%</td>\n",
       "    </tr>\n",
       "    <tr>\n",
       "      <th>59</th>\n",
       "      <td>2021년 08월 29일</td>\n",
       "      <td>3,222.16</td>\n",
       "      <td>3,243.96</td>\n",
       "      <td>3,282.21</td>\n",
       "      <td>3,155.31</td>\n",
       "      <td>643.73K</td>\n",
       "      <td>-0.67%</td>\n",
       "    </tr>\n",
       "    <tr>\n",
       "      <th>60</th>\n",
       "      <td>2021년 08월 30일</td>\n",
       "      <td>3,225.67</td>\n",
       "      <td>3,222.43</td>\n",
       "      <td>3,345.72</td>\n",
       "      <td>3,145.53</td>\n",
       "      <td>966.58K</td>\n",
       "      <td>0.11%</td>\n",
       "    </tr>\n",
       "    <tr>\n",
       "      <th>61</th>\n",
       "      <td>2021년 08월 31일</td>\n",
       "      <td>3,430.74</td>\n",
       "      <td>3,228.23</td>\n",
       "      <td>3,467.42</td>\n",
       "      <td>3,191.34</td>\n",
       "      <td>1.52M</td>\n",
       "      <td>6.36%</td>\n",
       "    </tr>\n",
       "  </tbody>\n",
       "</table>\n",
       "<p>62 rows × 7 columns</p>\n",
       "</div>"
      ],
      "text/plain": [
       "               날짜        종가        오픈        고가        저가      거래량      변동\n",
       "0   2021년 07월 01일  2,109.11  2,274.50  2,274.63  2,077.56    1.71M  -7.24%\n",
       "1   2021년 07월 02일  2,154.78  2,108.58  2,158.70  2,019.75    1.39M   2.17%\n",
       "2   2021년 07월 03일  2,224.70  2,154.53  2,236.97  2,115.80    1.28M   3.25%\n",
       "3   2021년 07월 04일  2,323.22  2,224.70  2,386.20  2,222.95    1.39M   4.43%\n",
       "4   2021년 07월 05일  2,196.16  2,322.60  2,322.60  2,163.09  822.95K  -5.47%\n",
       "..            ...       ...       ...       ...       ...      ...     ...\n",
       "57  2021년 08월 27일  3,273.58  3,093.78  3,279.93  3,063.37  839.54K   5.82%\n",
       "58  2021년 08월 28일  3,243.90  3,273.78  3,284.58  3,212.24  466.21K  -0.91%\n",
       "59  2021년 08월 29일  3,222.16  3,243.96  3,282.21  3,155.31  643.73K  -0.67%\n",
       "60  2021년 08월 30일  3,225.67  3,222.43  3,345.72  3,145.53  966.58K   0.11%\n",
       "61  2021년 08월 31일  3,430.74  3,228.23  3,467.42  3,191.34    1.52M   6.36%\n",
       "\n",
       "[62 rows x 7 columns]"
      ]
     },
     "execution_count": 53,
     "metadata": {},
     "output_type": "execute_result"
    }
   ],
   "source": [
    "df"
   ]
  },
  {
   "cell_type": "code",
   "execution_count": 42,
   "metadata": {},
   "outputs": [
    {
     "data": {
      "text/plain": [
       "0     -7.24%\n",
       "1      2.17%\n",
       "2      3.25%\n",
       "3      4.43%\n",
       "4     -5.47%\n",
       "       ...  \n",
       "57     5.82%\n",
       "58    -0.91%\n",
       "59    -0.67%\n",
       "60     0.11%\n",
       "61     6.36%\n",
       "Name: 변동, Length: 62, dtype: object"
      ]
     },
     "execution_count": 42,
     "metadata": {},
     "output_type": "execute_result"
    }
   ],
   "source": [
    "df['변동']"
   ]
  },
  {
   "cell_type": "code",
   "execution_count": 60,
   "metadata": {},
   "outputs": [],
   "source": [
    "df['거래량'] = df[df['거래량'].str.contains('K')]['거래량'].str.split(\"K\").str[0].astype(float)*1000"
   ]
  },
  {
   "cell_type": "code",
   "execution_count": 67,
   "metadata": {},
   "outputs": [],
   "source": [
    "df_K = df[df['거래량'].str.contains('K')]['거래량'].str.split(\"K\").str[0].astype(float)*1000"
   ]
  },
  {
   "cell_type": "code",
   "execution_count": 68,
   "metadata": {},
   "outputs": [],
   "source": [
    "df_M = df[df['거래량'].str.contains('M')]['거래량'].str.split(\"M\").str[0].astype(float)*1000000"
   ]
  },
  {
   "cell_type": "code",
   "execution_count": 71,
   "metadata": {},
   "outputs": [],
   "source": [
    "df = pd.concat([df_K,df_M], ignore_index=False)"
   ]
  },
  {
   "cell_type": "code",
   "execution_count": 72,
   "metadata": {},
   "outputs": [
    {
     "data": {
      "text/plain": [
       "4      822950.0\n",
       "9      929320.0\n",
       "10     724840.0\n",
       "11     540100.0\n",
       "12     717850.0\n",
       "        ...    \n",
       "39    1440000.0\n",
       "40    1120000.0\n",
       "47    1060000.0\n",
       "53    1090000.0\n",
       "61    1520000.0\n",
       "Name: 거래량, Length: 62, dtype: float64"
      ]
     },
     "execution_count": 72,
     "metadata": {},
     "output_type": "execute_result"
    }
   ],
   "source": [
    "df"
   ]
  },
  {
   "cell_type": "code",
   "execution_count": 56,
   "metadata": {},
   "outputs": [
    {
     "ename": "AttributeError",
     "evalue": "'DataFrame' object has no attribute 'str'",
     "output_type": "error",
     "traceback": [
      "\u001b[1;31m---------------------------------------------------------------------------\u001b[0m",
      "\u001b[1;31mAttributeError\u001b[0m                            Traceback (most recent call last)",
      "\u001b[1;32m<ipython-input-56-8d96117ce4e5>\u001b[0m in \u001b[0;36m<module>\u001b[1;34m\u001b[0m\n\u001b[1;32m----> 1\u001b[1;33m \u001b[0mdf\u001b[0m\u001b[1;33m[\u001b[0m\u001b[0mdf\u001b[0m\u001b[1;33m[\u001b[0m\u001b[1;34m'거래량'\u001b[0m\u001b[1;33m]\u001b[0m\u001b[1;33m.\u001b[0m\u001b[0mstr\u001b[0m\u001b[1;33m.\u001b[0m\u001b[0mcontains\u001b[0m\u001b[1;33m(\u001b[0m\u001b[1;34m'K'\u001b[0m\u001b[1;33m)\u001b[0m\u001b[1;33m]\u001b[0m\u001b[1;33m.\u001b[0m\u001b[0mstr\u001b[0m\u001b[1;33m.\u001b[0m\u001b[0msplit\u001b[0m\u001b[1;33m(\u001b[0m\u001b[1;34m\"K\"\u001b[0m\u001b[1;33m)\u001b[0m\u001b[1;33m\u001b[0m\u001b[1;33m\u001b[0m\u001b[0m\n\u001b[0m",
      "\u001b[1;32m~\\anaconda3\\lib\\site-packages\\pandas\\core\\generic.py\u001b[0m in \u001b[0;36m__getattr__\u001b[1;34m(self, name)\u001b[0m\n\u001b[0;32m   5272\u001b[0m             \u001b[1;32mif\u001b[0m \u001b[0mself\u001b[0m\u001b[1;33m.\u001b[0m\u001b[0m_info_axis\u001b[0m\u001b[1;33m.\u001b[0m\u001b[0m_can_hold_identifiers_and_holds_name\u001b[0m\u001b[1;33m(\u001b[0m\u001b[0mname\u001b[0m\u001b[1;33m)\u001b[0m\u001b[1;33m:\u001b[0m\u001b[1;33m\u001b[0m\u001b[1;33m\u001b[0m\u001b[0m\n\u001b[0;32m   5273\u001b[0m                 \u001b[1;32mreturn\u001b[0m \u001b[0mself\u001b[0m\u001b[1;33m[\u001b[0m\u001b[0mname\u001b[0m\u001b[1;33m]\u001b[0m\u001b[1;33m\u001b[0m\u001b[1;33m\u001b[0m\u001b[0m\n\u001b[1;32m-> 5274\u001b[1;33m             \u001b[1;32mreturn\u001b[0m \u001b[0mobject\u001b[0m\u001b[1;33m.\u001b[0m\u001b[0m__getattribute__\u001b[0m\u001b[1;33m(\u001b[0m\u001b[0mself\u001b[0m\u001b[1;33m,\u001b[0m \u001b[0mname\u001b[0m\u001b[1;33m)\u001b[0m\u001b[1;33m\u001b[0m\u001b[1;33m\u001b[0m\u001b[0m\n\u001b[0m\u001b[0;32m   5275\u001b[0m \u001b[1;33m\u001b[0m\u001b[0m\n\u001b[0;32m   5276\u001b[0m     \u001b[1;32mdef\u001b[0m \u001b[0m__setattr__\u001b[0m\u001b[1;33m(\u001b[0m\u001b[0mself\u001b[0m\u001b[1;33m,\u001b[0m \u001b[0mname\u001b[0m\u001b[1;33m:\u001b[0m \u001b[0mstr\u001b[0m\u001b[1;33m,\u001b[0m \u001b[0mvalue\u001b[0m\u001b[1;33m)\u001b[0m \u001b[1;33m->\u001b[0m \u001b[1;32mNone\u001b[0m\u001b[1;33m:\u001b[0m\u001b[1;33m\u001b[0m\u001b[1;33m\u001b[0m\u001b[0m\n",
      "\u001b[1;31mAttributeError\u001b[0m: 'DataFrame' object has no attribute 'str'"
     ]
    }
   ],
   "source": [
    "df[df['거래량'].str.contains('K')].str.split(\"K\")"
   ]
  },
  {
   "cell_type": "code",
   "execution_count": 51,
   "metadata": {},
   "outputs": [
    {
     "data": {
      "text/plain": [
       "0      True\n",
       "1      True\n",
       "2      True\n",
       "3      True\n",
       "4     False\n",
       "      ...  \n",
       "57    False\n",
       "58    False\n",
       "59    False\n",
       "60    False\n",
       "61     True\n",
       "Name: 거래량, Length: 62, dtype: bool"
      ]
     },
     "execution_count": 51,
     "metadata": {},
     "output_type": "execute_result"
    }
   ],
   "source": []
  },
  {
   "cell_type": "code",
   "execution_count": 46,
   "metadata": {},
   "outputs": [],
   "source": [
    "df['변동'] = df['변동'].str.split(\"%\").str[0]"
   ]
  },
  {
   "cell_type": "code",
   "execution_count": 47,
   "metadata": {},
   "outputs": [
    {
     "data": {
      "text/html": [
       "<div>\n",
       "<style scoped>\n",
       "    .dataframe tbody tr th:only-of-type {\n",
       "        vertical-align: middle;\n",
       "    }\n",
       "\n",
       "    .dataframe tbody tr th {\n",
       "        vertical-align: top;\n",
       "    }\n",
       "\n",
       "    .dataframe thead th {\n",
       "        text-align: right;\n",
       "    }\n",
       "</style>\n",
       "<table border=\"1\" class=\"dataframe\">\n",
       "  <thead>\n",
       "    <tr style=\"text-align: right;\">\n",
       "      <th></th>\n",
       "      <th>날짜</th>\n",
       "      <th>종가</th>\n",
       "      <th>오픈</th>\n",
       "      <th>고가</th>\n",
       "      <th>저가</th>\n",
       "      <th>거래량</th>\n",
       "      <th>변동</th>\n",
       "    </tr>\n",
       "  </thead>\n",
       "  <tbody>\n",
       "    <tr>\n",
       "      <th>0</th>\n",
       "      <td>2021년 07월 01일</td>\n",
       "      <td>2,109.11</td>\n",
       "      <td>2,274.50</td>\n",
       "      <td>2,274.63</td>\n",
       "      <td>2,077.56</td>\n",
       "      <td>1.71M</td>\n",
       "      <td>-7.24</td>\n",
       "    </tr>\n",
       "    <tr>\n",
       "      <th>1</th>\n",
       "      <td>2021년 07월 02일</td>\n",
       "      <td>2,154.78</td>\n",
       "      <td>2,108.58</td>\n",
       "      <td>2,158.70</td>\n",
       "      <td>2,019.75</td>\n",
       "      <td>1.39M</td>\n",
       "      <td>2.17</td>\n",
       "    </tr>\n",
       "    <tr>\n",
       "      <th>2</th>\n",
       "      <td>2021년 07월 03일</td>\n",
       "      <td>2,224.70</td>\n",
       "      <td>2,154.53</td>\n",
       "      <td>2,236.97</td>\n",
       "      <td>2,115.80</td>\n",
       "      <td>1.28M</td>\n",
       "      <td>3.25</td>\n",
       "    </tr>\n",
       "    <tr>\n",
       "      <th>3</th>\n",
       "      <td>2021년 07월 04일</td>\n",
       "      <td>2,323.22</td>\n",
       "      <td>2,224.70</td>\n",
       "      <td>2,386.20</td>\n",
       "      <td>2,222.95</td>\n",
       "      <td>1.39M</td>\n",
       "      <td>4.43</td>\n",
       "    </tr>\n",
       "    <tr>\n",
       "      <th>4</th>\n",
       "      <td>2021년 07월 05일</td>\n",
       "      <td>2,196.16</td>\n",
       "      <td>2,322.60</td>\n",
       "      <td>2,322.60</td>\n",
       "      <td>2,163.09</td>\n",
       "      <td>822.95K</td>\n",
       "      <td>-5.47</td>\n",
       "    </tr>\n",
       "    <tr>\n",
       "      <th>...</th>\n",
       "      <td>...</td>\n",
       "      <td>...</td>\n",
       "      <td>...</td>\n",
       "      <td>...</td>\n",
       "      <td>...</td>\n",
       "      <td>...</td>\n",
       "      <td>...</td>\n",
       "    </tr>\n",
       "    <tr>\n",
       "      <th>57</th>\n",
       "      <td>2021년 08월 27일</td>\n",
       "      <td>3,273.58</td>\n",
       "      <td>3,093.78</td>\n",
       "      <td>3,279.93</td>\n",
       "      <td>3,063.37</td>\n",
       "      <td>839.54K</td>\n",
       "      <td>5.82</td>\n",
       "    </tr>\n",
       "    <tr>\n",
       "      <th>58</th>\n",
       "      <td>2021년 08월 28일</td>\n",
       "      <td>3,243.90</td>\n",
       "      <td>3,273.78</td>\n",
       "      <td>3,284.58</td>\n",
       "      <td>3,212.24</td>\n",
       "      <td>466.21K</td>\n",
       "      <td>-0.91</td>\n",
       "    </tr>\n",
       "    <tr>\n",
       "      <th>59</th>\n",
       "      <td>2021년 08월 29일</td>\n",
       "      <td>3,222.16</td>\n",
       "      <td>3,243.96</td>\n",
       "      <td>3,282.21</td>\n",
       "      <td>3,155.31</td>\n",
       "      <td>643.73K</td>\n",
       "      <td>-0.67</td>\n",
       "    </tr>\n",
       "    <tr>\n",
       "      <th>60</th>\n",
       "      <td>2021년 08월 30일</td>\n",
       "      <td>3,225.67</td>\n",
       "      <td>3,222.43</td>\n",
       "      <td>3,345.72</td>\n",
       "      <td>3,145.53</td>\n",
       "      <td>966.58K</td>\n",
       "      <td>0.11</td>\n",
       "    </tr>\n",
       "    <tr>\n",
       "      <th>61</th>\n",
       "      <td>2021년 08월 31일</td>\n",
       "      <td>3,430.74</td>\n",
       "      <td>3,228.23</td>\n",
       "      <td>3,467.42</td>\n",
       "      <td>3,191.34</td>\n",
       "      <td>1.52M</td>\n",
       "      <td>6.36</td>\n",
       "    </tr>\n",
       "  </tbody>\n",
       "</table>\n",
       "<p>62 rows × 7 columns</p>\n",
       "</div>"
      ],
      "text/plain": [
       "               날짜        종가        오픈        고가        저가      거래량     변동\n",
       "0   2021년 07월 01일  2,109.11  2,274.50  2,274.63  2,077.56    1.71M  -7.24\n",
       "1   2021년 07월 02일  2,154.78  2,108.58  2,158.70  2,019.75    1.39M   2.17\n",
       "2   2021년 07월 03일  2,224.70  2,154.53  2,236.97  2,115.80    1.28M   3.25\n",
       "3   2021년 07월 04일  2,323.22  2,224.70  2,386.20  2,222.95    1.39M   4.43\n",
       "4   2021년 07월 05일  2,196.16  2,322.60  2,322.60  2,163.09  822.95K  -5.47\n",
       "..            ...       ...       ...       ...       ...      ...    ...\n",
       "57  2021년 08월 27일  3,273.58  3,093.78  3,279.93  3,063.37  839.54K   5.82\n",
       "58  2021년 08월 28일  3,243.90  3,273.78  3,284.58  3,212.24  466.21K  -0.91\n",
       "59  2021년 08월 29일  3,222.16  3,243.96  3,282.21  3,155.31  643.73K  -0.67\n",
       "60  2021년 08월 30일  3,225.67  3,222.43  3,345.72  3,145.53  966.58K   0.11\n",
       "61  2021년 08월 31일  3,430.74  3,228.23  3,467.42  3,191.34    1.52M   6.36\n",
       "\n",
       "[62 rows x 7 columns]"
      ]
     },
     "execution_count": 47,
     "metadata": {},
     "output_type": "execute_result"
    }
   ],
   "source": [
    "df"
   ]
  },
  {
   "cell_type": "code",
   "execution_count": 74,
   "metadata": {},
   "outputs": [],
   "source": [
    "df.to_csv(\"ethereumVar202107_202108.csv\")"
   ]
  }
 ],
 "metadata": {
  "kernelspec": {
   "display_name": "Python 3",
   "language": "python",
   "name": "python3"
  },
  "language_info": {
   "codemirror_mode": {
    "name": "ipython",
    "version": 3
   },
   "file_extension": ".py",
   "mimetype": "text/x-python",
   "name": "python",
   "nbconvert_exporter": "python",
   "pygments_lexer": "ipython3",
   "version": "3.7.6"
  }
 },
 "nbformat": 4,
 "nbformat_minor": 4
}
